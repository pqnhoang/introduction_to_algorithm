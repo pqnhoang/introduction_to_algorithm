{
 "cells": [
  {
   "cell_type": "code",
   "execution_count": 7,
   "metadata": {},
   "outputs": [
    {
     "name": "stdout",
     "output_type": "stream",
     "text": [
      "[36, 53, 89, 150, 233, 633]\n"
     ]
    }
   ],
   "source": [
    "def counting_sort(arr,place):\n",
    "    size = len(arr)\n",
    "    count = [0] * 10\n",
    "    output = [0] * size\n",
    "    for i in range(size):\n",
    "        index = arr[i] // place\n",
    "        count[index % 10] += 1\n",
    "    for j in range(1,10):\n",
    "        count[j] += count[j-1]\n",
    "    for j in range(size-1,-1,-1):\n",
    "        index = arr[j] // place\n",
    "        output[count[index % 10] - 1] = arr[j]\n",
    "        count[index % 10] -= 1\n",
    "    for a in range(0,size):\n",
    "        arr[a] = output[a]\n",
    "def radix_sort(arr):\n",
    "    max1 = max(arr)\n",
    "    place = 1\n",
    "    while max1 // place > 0:\n",
    "        counting_sort(arr,place)\n",
    "        place *= 10\n",
    "    return arr\n",
    "arr = [53,89,150,36,633,233]\n",
    "print(radix_sort(arr))"
   ]
  }
 ],
 "metadata": {
  "kernelspec": {
   "display_name": "Python 3.10.5 64-bit",
   "language": "python",
   "name": "python3"
  },
  "language_info": {
   "codemirror_mode": {
    "name": "ipython",
    "version": 3
   },
   "file_extension": ".py",
   "mimetype": "text/x-python",
   "name": "python",
   "nbconvert_exporter": "python",
   "pygments_lexer": "ipython3",
   "version": "3.10.5"
  },
  "orig_nbformat": 4,
  "vscode": {
   "interpreter": {
    "hash": "682500ecd35da165753406cb9a5b7a11d766438723cad81a60a58ef1c8c50a88"
   }
  }
 },
 "nbformat": 4,
 "nbformat_minor": 2
}
