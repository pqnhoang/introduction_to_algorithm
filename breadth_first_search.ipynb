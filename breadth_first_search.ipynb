{
 "cells": [
  {
   "cell_type": "code",
   "execution_count": 7,
   "metadata": {},
   "outputs": [],
   "source": [
    "class Vertices:\n",
    "    def __init__(self):\n",
    "        self.color = 'white'\n",
    "        self.d = float('inf')\n",
    "        self.parent = 'nil'\n",
    "        self.f = 0"
   ]
  },
  {
   "cell_type": "code",
   "execution_count": 8,
   "metadata": {},
   "outputs": [],
   "source": [
    "class Graph:\n",
    "    def __init__(self,graph):\n",
    "        self.graph = graph\n",
    "    def addEdge(self,u,v):\n",
    "        self.graph[u].append(v)\n",
    "    def BFS(self,init):\n",
    "        init.color = 'gray'\n",
    "        init.d = 0\n",
    "        init.parent = 'nil'\n",
    "        queue = []\n",
    "        queue.append(init)\n",
    "        while queue:\n",
    "            u = queue.pop(0)\n",
    "            for v in self.graph[u]:\n",
    "                if v.color == 'white':\n",
    "                    v.color = 'gray'\n",
    "                    v.d = u.d + 1\n",
    "                    v.parent = u\n",
    "                    queue.append(v)\n",
    "            u.color = 'black'"
   ]
  },
  {
   "cell_type": "code",
   "execution_count": 9,
   "metadata": {},
   "outputs": [
    {
     "name": "stdout",
     "output_type": "stream",
     "text": [
      "2\n"
     ]
    }
   ],
   "source": [
    "v = Vertices()\n",
    "r = Vertices()\n",
    "s = Vertices()\n",
    "t = Vertices()\n",
    "u = Vertices()\n",
    "y = Vertices()\n",
    "x = Vertices()\n",
    "w = Vertices()\n",
    "d = {v:[r],r:[v,s],s:[r,w],w:[s,t,x],t:[w,x,u],u:[t,x,y],y:[u,x],x:[w,t,u,y]}\n",
    "graph = Graph(d)\n",
    "graph.BFS(s)\n",
    "y.d\n",
    "print(y.parent.d)"
   ]
  }
 ],
 "metadata": {
  "kernelspec": {
   "display_name": "Python 3.10.5 64-bit",
   "language": "python",
   "name": "python3"
  },
  "language_info": {
   "codemirror_mode": {
    "name": "ipython",
    "version": 3
   },
   "file_extension": ".py",
   "mimetype": "text/x-python",
   "name": "python",
   "nbconvert_exporter": "python",
   "pygments_lexer": "ipython3",
   "version": "3.10.5"
  },
  "orig_nbformat": 4,
  "vscode": {
   "interpreter": {
    "hash": "682500ecd35da165753406cb9a5b7a11d766438723cad81a60a58ef1c8c50a88"
   }
  }
 },
 "nbformat": 4,
 "nbformat_minor": 2
}
