{
 "cells": [
  {
   "cell_type": "code",
   "execution_count": 8,
   "metadata": {},
   "outputs": [],
   "source": [
    "from collections import defaultdict"
   ]
  },
  {
   "cell_type": "code",
   "execution_count": 9,
   "metadata": {},
   "outputs": [
    {
     "name": "stdout",
     "output_type": "stream",
     "text": [
      "2 -- 3 == 4\n",
      "0 -- 3 == 5\n",
      "0 -- 1 == 10\n",
      "Minimum Spanning Tree 19\n"
     ]
    }
   ],
   "source": [
    "class Graph:\n",
    "    def __init__(self,vertices):\n",
    "        self.V = vertices\n",
    "        self.graph = []\n",
    "    def addEdge(self,u,v,w):\n",
    "        self.graph.append([u,v,w])\n",
    "    def find(self,parent,i):\n",
    "        if parent[i] == i:\n",
    "            return i\n",
    "        return self.find(parent,parent[i])\n",
    "    def union(self,parent,rank,x,y):\n",
    "        xroot = self.find(parent,x)\n",
    "        yroot = self.find(parent,y)\n",
    "        if rank[xroot] < rank[yroot]:\n",
    "            parent[xroot] = yroot\n",
    "        elif rank[xroot] > rank[yroot]:\n",
    "            parent[yroot] = xroot\n",
    "        else:\n",
    "            parent[xroot] = yroot\n",
    "            rank[xroot] += 1\n",
    "    def KruskalMST(self):\n",
    "        result =[]\n",
    "        i = 0\n",
    "        e = 0\n",
    "        self.graph = sorted(self.graph,key = lambda item : item[2])\n",
    "        parent =[]\n",
    "        rank = []\n",
    "        for node in range(self.V):\n",
    "            parent.append(node)\n",
    "            rank.append(0)\n",
    "        while e < self.V - 1:\n",
    "            u , v , w = self.graph[i]\n",
    "            i += 1\n",
    "            x = self.find(parent,u)\n",
    "            y = self.find(parent,v)\n",
    "            if x != y:\n",
    "                e += 1\n",
    "                result.append([u,v,w])\n",
    "                self.union(parent,rank,u,v)\n",
    "        MinimumCost = 0\n",
    "        for u, v, weight in result:\n",
    "            MinimumCost += weight\n",
    "            print(\"%d -- %d == %d\" % (u, v, weight))\n",
    "        print(\"Minimum Spanning Tree\", MinimumCost)\n",
    "if __name__ == '__main__':\n",
    "    g = Graph(4)\n",
    "    g.addEdge(0, 1, 10)\n",
    "    g.addEdge(0, 2, 6)\n",
    "    g.addEdge(0, 3, 5)\n",
    "    g.addEdge(1, 3, 15)\n",
    "    g.addEdge(2, 3, 4)\n",
    " \n",
    "    # Function call\n",
    "    g.KruskalMST()\n"
   ]
  }
 ],
 "metadata": {
  "kernelspec": {
   "display_name": "Python 3.10.5 64-bit",
   "language": "python",
   "name": "python3"
  },
  "language_info": {
   "codemirror_mode": {
    "name": "ipython",
    "version": 3
   },
   "file_extension": ".py",
   "mimetype": "text/x-python",
   "name": "python",
   "nbconvert_exporter": "python",
   "pygments_lexer": "ipython3",
   "version": "3.10.5"
  },
  "orig_nbformat": 4,
  "vscode": {
   "interpreter": {
    "hash": "682500ecd35da165753406cb9a5b7a11d766438723cad81a60a58ef1c8c50a88"
   }
  }
 },
 "nbformat": 4,
 "nbformat_minor": 2
}
