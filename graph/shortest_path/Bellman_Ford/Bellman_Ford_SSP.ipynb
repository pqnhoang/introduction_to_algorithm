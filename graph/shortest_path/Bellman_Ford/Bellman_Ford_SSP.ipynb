{
 "cells": [
  {
   "cell_type": "code",
   "execution_count": 3,
   "metadata": {},
   "outputs": [],
   "source": [
    "class Graph:\n",
    "    def __init__(self,vertices):\n",
    "        self.V = vertices\n",
    "        self.graph =[]\n",
    "    def addEdge(self,u,v,w):\n",
    "        self.graph.append([u,v,w])\n",
    "    def printArr(self, dist):\n",
    "        print(\"Vertex Distance from Source\")\n",
    "        for i in range(self.V):\n",
    "            print(\"{0}\\t\\t{1}\".format(i, dist[i]))\n",
    "    def relax(self,dist):\n",
    "        for u,v,w in self.graph:\n",
    "            if dist[u] != float(\"Inf\") and dist[u] + w < dist[v]:\n",
    "                dist[v] = dist[u] + w\n",
    "    def BellmanFord(self,src):\n",
    "        dist = [float(\"Inf\")]*self.V\n",
    "        dist[src] = 0\n",
    "        for _ in range(self.V -1):\n",
    "            self.relax(dist)\n",
    "        for u,v,w in self.graph:\n",
    "            if dist[u] != float(\"Inf\") and dist[u] + w < dist[v]:\n",
    "                print(\"negative cycle detected\")\n",
    "                return\n",
    "        self.printArr(dist)"
   ]
  },
  {
   "cell_type": "code",
   "execution_count": 4,
   "metadata": {},
   "outputs": [
    {
     "name": "stdout",
     "output_type": "stream",
     "text": [
      "Vertex Distance from Source\n",
      "0\t\t0\n",
      "1\t\t-1\n",
      "2\t\t2\n",
      "3\t\t-2\n",
      "4\t\t1\n"
     ]
    }
   ],
   "source": [
    "if __name__ == '__main__':\n",
    "    g = Graph(5)\n",
    "    g.addEdge(0, 1, -1)\n",
    "    g.addEdge(0, 2, 4)\n",
    "    g.addEdge(1, 2, 3)\n",
    "    g.addEdge(1, 3, 2)\n",
    "    g.addEdge(1, 4, 2)\n",
    "    g.addEdge(3, 2, 5)\n",
    "    g.addEdge(3, 1, 1)\n",
    "    g.addEdge(4, 3, -3)\n",
    " \n",
    "    # function call\n",
    "    g.BellmanFord(0)"
   ]
  }
 ],
 "metadata": {
  "kernelspec": {
   "display_name": "Python 3.10.5 64-bit",
   "language": "python",
   "name": "python3"
  },
  "language_info": {
   "codemirror_mode": {
    "name": "ipython",
    "version": 3
   },
   "file_extension": ".py",
   "mimetype": "text/x-python",
   "name": "python",
   "nbconvert_exporter": "python",
   "pygments_lexer": "ipython3",
   "version": "3.10.5"
  },
  "orig_nbformat": 4,
  "vscode": {
   "interpreter": {
    "hash": "682500ecd35da165753406cb9a5b7a11d766438723cad81a60a58ef1c8c50a88"
   }
  }
 },
 "nbformat": 4,
 "nbformat_minor": 2
}
