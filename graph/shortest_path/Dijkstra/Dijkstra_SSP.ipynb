{
 "cells": [
  {
   "cell_type": "code",
   "execution_count": 4,
   "metadata": {},
   "outputs": [],
   "source": [
    "class Graph:\n",
    "    def __init__(self,vertices):\n",
    "        self.V = vertices\n",
    "        self.graph = []\n",
    "    def addEdge(self,u,v,w):\n",
    "        self.graph.append([u,v,w])\n",
    "    def printSolution(self, dist):\n",
    "        print(\"Vertex \\tDistance from Source\")\n",
    "        for node in range(self.V):\n",
    "            print(node, \"\\t\", dist[node])\n",
    "    def extractMin(self,dist,sptSet):\n",
    "        min = float('inf')\n",
    "        for u in range(self.V):\n",
    "            if dist[u] < min and sptSet[u] == False:\n",
    "                min = dist[u]\n",
    "                min_index = u\n",
    "        return min_index\n",
    "    def Dijkstra(self,src):\n",
    "        dist = [float('inf')]*self.V\n",
    "        dist[src] = 0\n",
    "        sptSet = [False]*self.V\n",
    "        for cout in range(self.V):\n",
    "            x = self.extractMin(dist,sptSet)\n",
    "            sptSet[x] = True\n",
    "            for y in self.graph:\n",
    "                if y[0] == x and sptSet[y[1]] == False and (dist[y[1]] > dist[x] + y[2]):\n",
    "                    dist[y[1]] = dist[x] + y[2]\n",
    "        self.printSolution(dist)"
   ]
  },
  {
   "cell_type": "code",
   "execution_count": 5,
   "metadata": {},
   "outputs": [
    {
     "name": "stdout",
     "output_type": "stream",
     "text": [
      "Vertex \tDistance from Source\n",
      "0 \t 0\n",
      "1 \t 8\n",
      "2 \t 5\n",
      "3 \t 9\n",
      "4 \t 7\n"
     ]
    }
   ],
   "source": [
    "if __name__ =='__main__':\n",
    "    g = Graph(5)\n",
    "    g.addEdge(0,1,10)\n",
    "    g.addEdge(0,2,5)\n",
    "    g.addEdge(1,2,2)\n",
    "    g.addEdge(2,1,3)\n",
    "    g.addEdge(1,3,1)\n",
    "    g.addEdge(2,3,9)\n",
    "    g.addEdge(2,4,2)\n",
    "    g.addEdge(3,4,4)\n",
    "    g.addEdge(4,3,6)\n",
    "    g.Dijkstra(0)"
   ]
  }
 ],
 "metadata": {
  "kernelspec": {
   "display_name": "Python 3.10.5 64-bit",
   "language": "python",
   "name": "python3"
  },
  "language_info": {
   "codemirror_mode": {
    "name": "ipython",
    "version": 3
   },
   "file_extension": ".py",
   "mimetype": "text/x-python",
   "name": "python",
   "nbconvert_exporter": "python",
   "pygments_lexer": "ipython3",
   "version": "3.10.5"
  },
  "orig_nbformat": 4,
  "vscode": {
   "interpreter": {
    "hash": "682500ecd35da165753406cb9a5b7a11d766438723cad81a60a58ef1c8c50a88"
   }
  }
 },
 "nbformat": 4,
 "nbformat_minor": 2
}
