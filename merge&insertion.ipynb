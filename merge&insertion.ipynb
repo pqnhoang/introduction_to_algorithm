{
 "cells": [
  {
   "cell_type": "code",
   "execution_count": 6,
   "metadata": {},
   "outputs": [
    {
     "name": "stdout",
     "output_type": "stream",
     "text": [
      "['5', '1', '2', '3', '4', '6']\n"
     ]
    }
   ],
   "source": [
    "array = input()\n",
    "a = array.split()\n",
    "for j in range(1,len(a)):\n",
    "    key = a[j]\n",
    "    i = j -1\n",
    "    while i > 0 and a[i] > key:\n",
    "        a[i+1] = a[i]\n",
    "        i = i -1\n",
    "    a[i+1] = key\n",
    "print(a)"
   ]
  }
 ],
 "metadata": {
  "kernelspec": {
   "display_name": "Python 3.10.5 64-bit",
   "language": "python",
   "name": "python3"
  },
  "language_info": {
   "codemirror_mode": {
    "name": "ipython",
    "version": 3
   },
   "file_extension": ".py",
   "mimetype": "text/x-python",
   "name": "python",
   "nbconvert_exporter": "python",
   "pygments_lexer": "ipython3",
   "version": "3.10.5"
  },
  "orig_nbformat": 4,
  "vscode": {
   "interpreter": {
    "hash": "682500ecd35da165753406cb9a5b7a11d766438723cad81a60a58ef1c8c50a88"
   }
  }
 },
 "nbformat": 4,
 "nbformat_minor": 2
}
