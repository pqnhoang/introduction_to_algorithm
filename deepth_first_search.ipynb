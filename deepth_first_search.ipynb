{
 "cells": [
  {
   "cell_type": "code",
   "execution_count": 25,
   "metadata": {},
   "outputs": [],
   "source": [
    "class Vertice:\n",
    "    def __init__(self,color ='white'):\n",
    "        self.color = color\n",
    "        self.d = float('inf')\n",
    "        self.parent = 'nil'\n",
    "        self.f = float('inf')"
   ]
  },
  {
   "cell_type": "code",
   "execution_count": 26,
   "metadata": {},
   "outputs": [],
   "source": [
    "class Graph:\n",
    "    def __init__(self,graph):\n",
    "        self.graph = graph\n",
    "        self.time = 0\n",
    "    def addEdge(self,u,v):\n",
    "        self.graph[u].append(v)\n",
    "    def DFS(self):\n",
    "        for init in self.graph.keys():\n",
    "            if init.color == 'white':\n",
    "                self.DFS_visit(init)\n",
    "    def DFS_visit(self,init):\n",
    "        self.time += 1\n",
    "        init.d = self.time\n",
    "        init.color = 'gray'\n",
    "        for v in self.graph[init]:\n",
    "            if v.color == 'white':\n",
    "                v.parent = init\n",
    "                self.DFS_visit(v)\n",
    "        init.color = 'black'\n",
    "        self.time += 1\n",
    "        init.f = self.time"
   ]
  },
  {
   "cell_type": "code",
   "execution_count": 29,
   "metadata": {},
   "outputs": [
    {
     "data": {
      "text/plain": [
       "6"
      ]
     },
     "execution_count": 29,
     "metadata": {},
     "output_type": "execute_result"
    }
   ],
   "source": [
    "v = Vertice()\n",
    "z = Vertice()\n",
    "u = Vertice()\n",
    "y = Vertice()\n",
    "x = Vertice()\n",
    "w = Vertice()\n",
    "d = {u:[v,x],v:[y],y:[x],x:[v],w:[y,z],z:[z]}\n",
    "graph = Graph(d)\n",
    "graph.DFS()\n",
    "y.f"
   ]
  }
 ],
 "metadata": {
  "kernelspec": {
   "display_name": "Python 3.10.5 64-bit",
   "language": "python",
   "name": "python3"
  },
  "language_info": {
   "codemirror_mode": {
    "name": "ipython",
    "version": 3
   },
   "file_extension": ".py",
   "mimetype": "text/x-python",
   "name": "python",
   "nbconvert_exporter": "python",
   "pygments_lexer": "ipython3",
   "version": "3.10.5"
  },
  "orig_nbformat": 4,
  "vscode": {
   "interpreter": {
    "hash": "682500ecd35da165753406cb9a5b7a11d766438723cad81a60a58ef1c8c50a88"
   }
  }
 },
 "nbformat": 4,
 "nbformat_minor": 2
}
