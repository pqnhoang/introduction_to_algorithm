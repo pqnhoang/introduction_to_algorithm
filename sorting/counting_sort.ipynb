{
 "cells": [
  {
   "cell_type": "code",
   "execution_count": 1,
   "metadata": {},
   "outputs": [
    {
     "name": "stdout",
     "output_type": "stream",
     "text": [
      "[0, 0, 2, 2, 3, 3, 3, 4, 5, 10]\n"
     ]
    }
   ],
   "source": [
    "def counting_sort(arr,k):\n",
    "    B =[None for i in range(len(arr))]\n",
    "    count =[0 for i in range(k+1)]\n",
    "    for j in range(len(arr)):\n",
    "        count[arr[j]] += 1\n",
    "    for i in range(1,k+1):\n",
    "        count[i] = count[i] + count[i-1]\n",
    "    for j in range(len(arr)-1,-1,-1):\n",
    "        B[count[arr[j]]-1] = arr[j]\n",
    "        count[arr[j]] -= 1\n",
    "    return B\n",
    "if __name__ == \"__main__\":\n",
    "    arr = [2,5,3,0,2,3,0,3,4,10]\n",
    "    print(counting_sort(arr,10))\n"
   ]
  }
 ],
 "metadata": {
  "kernelspec": {
   "display_name": "Python 3.10.5 64-bit",
   "language": "python",
   "name": "python3"
  },
  "language_info": {
   "codemirror_mode": {
    "name": "ipython",
    "version": 3
   },
   "file_extension": ".py",
   "mimetype": "text/x-python",
   "name": "python",
   "nbconvert_exporter": "python",
   "pygments_lexer": "ipython3",
   "version": "3.10.5"
  },
  "orig_nbformat": 4,
  "vscode": {
   "interpreter": {
    "hash": "682500ecd35da165753406cb9a5b7a11d766438723cad81a60a58ef1c8c50a88"
   }
  }
 },
 "nbformat": 4,
 "nbformat_minor": 2
}
