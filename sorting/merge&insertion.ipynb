{
 "cells": [
  {
   "cell_type": "code",
   "execution_count": 1,
   "metadata": {},
   "outputs": [
    {
     "name": "stdout",
     "output_type": "stream",
     "text": [
      "['1', '2', '3', '4', '5']\n"
     ]
    }
   ],
   "source": [
    "array = input()\n",
    "a = array.split()\n",
    "for j in range(1,len(a)):\n",
    "    key = a[j]\n",
    "    i = j -1\n",
    "    while i >=0 and a[i] > key:\n",
    "        a[i+1] = a[i]\n",
    "        i = i -1\n",
    "    a[i+1] = key\n",
    "print(a)"
   ]
  },
  {
   "cell_type": "code",
   "execution_count": 5,
   "metadata": {},
   "outputs": [
    {
     "data": {
      "text/plain": [
       "[1, 2, 3, 4, 5]"
      ]
     },
     "execution_count": 5,
     "metadata": {},
     "output_type": "execute_result"
    }
   ],
   "source": [
    "#merge_sort\n",
    "def merge(A,p,q,r):\n",
    "    n1 = q - p + 1\n",
    "    n2 = r - q \n",
    "    A_copy = A[:]\n",
    "    L = A_copy[p:q+1]\n",
    "    R = A_copy[q+1:r+1]\n",
    "    L.append(10000)\n",
    "    R.append(10000)\n",
    "    i = 0\n",
    "    j = 0\n",
    "    for k in range(p,r+1):\n",
    "        if L[i] <= R[j]:\n",
    "            A[k] = L[i]\n",
    "            i += 1\n",
    "        else:\n",
    "            A[k] = R[j]\n",
    "            j += 1\n",
    "    return A\n",
    "def merge_sort(A,p,r):\n",
    "    if p < r:\n",
    "        q = (p + r) // 2\n",
    "        merge_sort(A,p,q)\n",
    "        merge_sort(A,q+1,r)\n",
    "        merge(A,p,q,r)\n",
    "    return A\n",
    "A = [1,3,2,5,4]\n",
    "merge_sort(A,0,4)"
   ]
  }
 ],
 "metadata": {
  "kernelspec": {
   "display_name": "Python 3.10.5 64-bit",
   "language": "python",
   "name": "python3"
  },
  "language_info": {
   "codemirror_mode": {
    "name": "ipython",
    "version": 3
   },
   "file_extension": ".py",
   "mimetype": "text/x-python",
   "name": "python",
   "nbconvert_exporter": "python",
   "pygments_lexer": "ipython3",
   "version": "3.10.5"
  },
  "orig_nbformat": 4,
  "vscode": {
   "interpreter": {
    "hash": "682500ecd35da165753406cb9a5b7a11d766438723cad81a60a58ef1c8c50a88"
   }
  }
 },
 "nbformat": 4,
 "nbformat_minor": 2
}
