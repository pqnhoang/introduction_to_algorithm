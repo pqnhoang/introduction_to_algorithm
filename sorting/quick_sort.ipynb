{
 "cells": [
  {
   "cell_type": "code",
   "execution_count": 4,
   "metadata": {},
   "outputs": [
    {
     "data": {
      "text/plain": [
       "[1, 2, 2, 4, 4, 5, 6, 6, 7, 8]"
      ]
     },
     "execution_count": 4,
     "metadata": {},
     "output_type": "execute_result"
    }
   ],
   "source": [
    "def quickSort(A,l,r):\n",
    "    if len(A) == 1:\n",
    "        return A\n",
    "    if l < r:\n",
    "        m = partition(A,l,r)\n",
    "        quickSort(A,l,m-1)\n",
    "        quickSort(A,m,r)\n",
    "    return A\n",
    "def partition(A,l,r):\n",
    "    x , i = A[r] , l\n",
    "    for j in range(l,r):\n",
    "        if A[j] <= x :\n",
    "            A[j] , A[i] = A[i] , A[j]\n",
    "            i += 1\n",
    "    A[i] , A[r] = A[r] , A[i]\n",
    "    return i\n",
    "example = [2, 5, 6, 1, 4, 6, 2, 4, 7, 8]\n",
    "quickSort(example,0,len(example)-1)"
   ]
  }
 ],
 "metadata": {
  "kernelspec": {
   "display_name": "Python 3.10.5 64-bit",
   "language": "python",
   "name": "python3"
  },
  "language_info": {
   "codemirror_mode": {
    "name": "ipython",
    "version": 3
   },
   "file_extension": ".py",
   "mimetype": "text/x-python",
   "name": "python",
   "nbconvert_exporter": "python",
   "pygments_lexer": "ipython3",
   "version": "3.10.5"
  },
  "orig_nbformat": 4,
  "vscode": {
   "interpreter": {
    "hash": "682500ecd35da165753406cb9a5b7a11d766438723cad81a60a58ef1c8c50a88"
   }
  }
 },
 "nbformat": 4,
 "nbformat_minor": 2
}
