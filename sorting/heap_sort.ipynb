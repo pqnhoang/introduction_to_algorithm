{
 "cells": [
  {
   "cell_type": "code",
   "execution_count": 4,
   "metadata": {},
   "outputs": [
    {
     "name": "stdout",
     "output_type": "stream",
     "text": [
      "Sorted array is\n",
      "1 2 2 4 4 5 6 6 7 8 "
     ]
    }
   ],
   "source": [
    "def heapify(A,N,i):\n",
    "    largest = i\n",
    "    l = 2*i \n",
    "    r = 2*i + 1\n",
    "    if l < N and A[largest] < A[l]:\n",
    "        largest = l\n",
    "    if r < N and A[largest] < A[r]:\n",
    "        largest = r\n",
    "    if largest != i:\n",
    "        A[largest],A[i] = A[i],A[largest]\n",
    "        heapify(A,N,largest)\n",
    "def heap_sort(A):\n",
    "    N = len(A)\n",
    "\n",
    "    for i in range(N//2 - 1,-1,-1):\n",
    "        heapify(A,N,i)\n",
    "    for i in range(N-1,0,-1):\n",
    "        A[0] , A[i] = A[i] , A[0]\n",
    "        heapify(A,i,0)\n",
    "\n",
    "if __name__ == '__main__':\n",
    "    arr = [2, 5, 6, 1, 4, 6, 2, 4, 7, 8]\n",
    " \n",
    "    # Function call\n",
    "    heap_sort(arr)\n",
    "    N = len(arr)\n",
    " \n",
    "    print(\"Sorted array is\")\n",
    "    for i in range(N):\n",
    "        print(\"%d\" % arr[i], end=\" \")"
   ]
  }
 ],
 "metadata": {
  "kernelspec": {
   "display_name": "Python 3.10.5 64-bit",
   "language": "python",
   "name": "python3"
  },
  "language_info": {
   "codemirror_mode": {
    "name": "ipython",
    "version": 3
   },
   "file_extension": ".py",
   "mimetype": "text/x-python",
   "name": "python",
   "nbconvert_exporter": "python",
   "pygments_lexer": "ipython3",
   "version": "3.10.5"
  },
  "orig_nbformat": 4,
  "vscode": {
   "interpreter": {
    "hash": "682500ecd35da165753406cb9a5b7a11d766438723cad81a60a58ef1c8c50a88"
   }
  }
 },
 "nbformat": 4,
 "nbformat_minor": 2
}
