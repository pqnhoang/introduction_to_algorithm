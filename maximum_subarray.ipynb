{
 "cells": [
  {
   "cell_type": "code",
   "execution_count": 35,
   "metadata": {},
   "outputs": [],
   "source": [
    "def find_max_crossing_subarray(A,low,mid,high):\n",
    "    left_sum = -10000000\n",
    "    sum = 0\n",
    "    max_left = 0\n",
    "    for i in range(mid,low-1,-1):\n",
    "        sum += A[i]\n",
    "        if sum > left_sum:\n",
    "            left_sum = sum\n",
    "            max_left = i\n",
    "    right_sum = -10000000\n",
    "    sum = 0\n",
    "    max_right = 0\n",
    "    for i in range(mid+1,high+1):\n",
    "        sum = sum + A[i]\n",
    "        if sum > right_sum:\n",
    "            right_sum = sum\n",
    "            max_right = i\n",
    "    return (max_left,max_right,left_sum + right_sum)"
   ]
  },
  {
   "cell_type": "code",
   "execution_count": 36,
   "metadata": {},
   "outputs": [],
   "source": [
    "def find_max_subarray(A,low,high):\n",
    "    if high == low:\n",
    "        return (low,high,A[low])\n",
    "    else:\n",
    "        mid = (low + high) // 2\n",
    "        (left_low,left_high,left_sum) = find_max_subarray(A,low,mid)\n",
    "        (right_low,right_high,right_sum) = find_max_subarray(A,mid+1,high)\n",
    "        (cross_low,cross_high,cross_sum) = find_max_crossing_subarray(A,low,mid,high)\n",
    "        if (left_sum >= right_sum) and (left_sum >= cross_sum):\n",
    "            return (left_low,left_high,left_sum)\n",
    "        elif (right_sum >= left_sum) and (right_sum >= cross_sum):\n",
    "            return (right_low,right_high,right_sum)\n",
    "        else:\n",
    "            return (cross_low,cross_high,cross_sum)\n"
   ]
  },
  {
   "cell_type": "code",
   "execution_count": 39,
   "metadata": {},
   "outputs": [
    {
     "data": {
      "text/plain": [
       "(0, 2, 6)"
      ]
     },
     "execution_count": 39,
     "metadata": {},
     "output_type": "execute_result"
    }
   ],
   "source": [
    "A = [3,-2,5,-1]\n",
    "find_max_crossing_subarray(A,0,1,3)\n",
    "find_max_subarray(A,0,3)"
   ]
  }
 ],
 "metadata": {
  "kernelspec": {
   "display_name": "Python 3.10.5 64-bit",
   "language": "python",
   "name": "python3"
  },
  "language_info": {
   "codemirror_mode": {
    "name": "ipython",
    "version": 3
   },
   "file_extension": ".py",
   "mimetype": "text/x-python",
   "name": "python",
   "nbconvert_exporter": "python",
   "pygments_lexer": "ipython3",
   "version": "3.10.5"
  },
  "orig_nbformat": 4,
  "vscode": {
   "interpreter": {
    "hash": "682500ecd35da165753406cb9a5b7a11d766438723cad81a60a58ef1c8c50a88"
   }
  }
 },
 "nbformat": 4,
 "nbformat_minor": 2
}
